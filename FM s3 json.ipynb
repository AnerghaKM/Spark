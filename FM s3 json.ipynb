{
 "cells": [
  {
   "cell_type": "code",
   "execution_count": 9,
   "id": "6492b9cb",
   "metadata": {},
   "outputs": [],
   "source": [
    "from pyspark import SparkContext\n",
    "from pyspark.streaming import StreamingContext\n",
    "import json\n",
    "from pyspark.sql import SparkSession\n",
    "from pyspark.sql.types import *\n",
    "import datetime\n",
    "import time\n",
    "from pyspark.sql.functions import split\n",
    "from pyspark.sql.functions import *\n",
    "import boto3"
   ]
  },
  {
   "cell_type": "code",
   "execution_count": 10,
   "id": "8a8e3885",
   "metadata": {},
   "outputs": [],
   "source": [
    "s3 = boto3.resource('s3',region_name=\"us-east-2\",aws_access_key_id='AKPM',aws_secret_access_key='p/Ew')"
   ]
  },
  {
   "cell_type": "code",
   "execution_count": 11,
   "id": "c2e7f01c",
   "metadata": {},
   "outputs": [],
   "source": [
    "bucket = s3.Bucket(\"hackathon-project-s3\")"
   ]
  },
  {
   "cell_type": "code",
   "execution_count": 12,
   "id": "1f17cff7",
   "metadata": {},
   "outputs": [
    {
     "data": {
      "text/plain": [
       "['FM_DOW Chemicals_2023_02_02_15_00_12.json',\n",
       " 'FM_DOW Chemicals_2023_02_02_15_00_20.json',\n",
       " 'PM_DOW Chemicals_2023_02_02_14_53_21.json',\n",
       " 'PM_DOW Chemicals_2023_02_02_14_53_39.json',\n",
       " 'PM_DOW Chemicals_2023_02_02_14_54_12.json',\n",
       " 'PM_DOW Chemicals_2023_02_02_14_55_01.json',\n",
       " 'PM_DOW Chemicals_2023_02_02_14_56_28.json',\n",
       " 'PM_DOW Chemicals_2023_02_02_14_57_53.json',\n",
       " 'config_5g_server.json',\n",
       " 'nhg_alias_final.csv']"
      ]
     },
     "execution_count": 12,
     "metadata": {},
     "output_type": "execute_result"
    }
   ],
   "source": [
    "data_files= [filename.key for filename in bucket.objects.filter(Prefix='')]\n",
    "data_files"
   ]
  },
  {
   "cell_type": "code",
   "execution_count": null,
   "id": "dceb5500",
   "metadata": {},
   "outputs": [],
   "source": []
  },
  {
   "cell_type": "code",
   "execution_count": 20,
   "id": "932f9e64",
   "metadata": {},
   "outputs": [],
   "source": [
    "spark = SparkSession.builder.appName(\"s3-json\").getOrCreate()"
   ]
  },
  {
   "cell_type": "code",
   "execution_count": 14,
   "id": "d7b09f1c",
   "metadata": {},
   "outputs": [],
   "source": [
    "df=spark.read.option('multiline','true').format('json').load(r'C:\\Users\\Anergha\\Documents\\data\\hemicals_2023_02_02_13_27_03.json')"
   ]
  },
  {
   "cell_type": "code",
   "execution_count": 1,
   "id": "433e8623",
   "metadata": {},
   "outputs": [],
   "source": [
    "df.show(5,False)"
   ]
  },
  {
   "cell_type": "code",
   "execution_count": 3,
   "id": "f68acf90",
   "metadata": {},
   "outputs": [],
   "source": [
    "df1=df.select('account_name','fm_data','fm_data_source')\n",
    "df1.show(5,False)"
   ]
  },
  {
   "cell_type": "code",
   "execution_count": null,
   "id": "1d0008d0",
   "metadata": {},
   "outputs": [],
   "source": [
    "df.printSchema()"
   ]
  },
  {
   "cell_type": "code",
   "execution_count": null,
   "id": "72a01380",
   "metadata": {},
   "outputs": [],
   "source": [
    "#df.select('pm_data.*').show()"
   ]
  },
  {
   "cell_type": "code",
   "execution_count": null,
   "id": "745f3bc4",
   "metadata": {},
   "outputs": [],
   "source": []
  }
 ],
 "metadata": {
  "kernelspec": {
   "display_name": "Python 3 (ipykernel)",
   "language": "python",
   "name": "python3"
  },
  "language_info": {
   "codemirror_mode": {
    "name": "ipython",
    "version": 3
   },
   "file_extension": ".py",
   "mimetype": "text/x-python",
   "name": "python",
   "nbconvert_exporter": "python",
   "pygments_lexer": "ipython3",
   "version": "3.9.7"
  }
 },
 "nbformat": 4,
 "nbformat_minor": 5
}
