{
 "cells": [
  {
   "cell_type": "code",
   "execution_count": 1,
   "id": "f13932ce",
   "metadata": {},
   "outputs": [],
   "source": [
    "from pyspark import SparkContext\n",
    "from pyspark.streaming import StreamingContext\n",
    "import json\n",
    "from pyspark.sql import SparkSession\n",
    "from pyspark.sql.types import *\n",
    "import datetime\n",
    "import time\n",
    "from pyspark.sql.functions import split\n",
    "from pyspark.sql.functions import *"
   ]
  },
  {
   "cell_type": "code",
   "execution_count": 2,
   "id": "adc164ba",
   "metadata": {},
   "outputs": [],
   "source": [
    "spark = SparkSession.builder.appName(\"pyspark-notebook\").getOrCreate()"
   ]
  },
  {
   "cell_type": "code",
   "execution_count": 3,
   "id": "a34dc09b",
   "metadata": {},
   "outputs": [],
   "source": [
    "df=spark.read.csv(r\"C:\\Users\\Anergha\\Documents\\LTE_cell_availability_dataset.csv\",header='True')"
   ]
  },
  {
   "cell_type": "code",
   "execution_count": 4,
   "id": "13fc28bd",
   "metadata": {},
   "outputs": [],
   "source": [
    "#df.columns"
   ]
  },
  {
   "cell_type": "code",
   "execution_count": 5,
   "id": "56b83ec1",
   "metadata": {},
   "outputs": [],
   "source": [
    "#df.show(1)"
   ]
  },
  {
   "cell_type": "code",
   "execution_count": 6,
   "id": "8e99b896",
   "metadata": {},
   "outputs": [],
   "source": [
    "#df.printSchema()"
   ]
  },
  {
   "cell_type": "code",
   "execution_count": 7,
   "id": "3da11e69",
   "metadata": {},
   "outputs": [],
   "source": [
    "df1=(df.withColumnRenamed('pm_data_source.nhg_alias','pm_data_source_nhg_alias')\n",
    ".withColumnRenamed('pm_data_source.end_timestamp','pm_data_source_end_timestamp')\n",
    ".withColumnRenamed('pm_data_source.hw_alias','pm_data_source_hw_alias')\n",
    ".withColumnRenamed('pm_data_source.hw_id','pm_data_source_hw_id')\n",
    ".withColumnRenamed('pm_data_source.nhg_alias','pm_data_source_nhg_alias')\n",
    ".withColumnRenamed('pm_data.LTE_Cell_Avail_M8020C4','pm_data_LTE_Cell_Avail_M8020C4')\n",
    ".withColumnRenamed('pm_data.LTE_Cell_Avail_M8020C3','pm_data_LTE_Cell_Avail_M8020C3')\n",
    ".withColumnRenamed('pm_data.LTE_Cell_Avail_M8020C6','pm_data_LTE_Cell_Avail_M8020C6')\n",
    ".withColumnRenamed('pm_data_source.dn','pm_data_source_dn'))  "
   ]
  },
  {
   "cell_type": "code",
   "execution_count": 8,
   "id": "cf738078",
   "metadata": {},
   "outputs": [],
   "source": [
    "df1=(df1.withColumn(\"pm_data_LTE_Cell_Avail_M8020C3\",df1.pm_data_LTE_Cell_Avail_M8020C3.cast('int'))\\\n",
    ".withColumn(\"pm_data_LTE_Cell_Avail_M8020C4\",df1.pm_data_LTE_Cell_Avail_M8020C4.cast('int'))\\\n",
    ".withColumn(\"pm_data_LTE_Cell_Avail_M8020C6\",df1.pm_data_LTE_Cell_Avail_M8020C6.cast('int')))"
   ]
  },
  {
   "cell_type": "code",
   "execution_count": 9,
   "id": "32812fa1",
   "metadata": {
    "scrolled": true
   },
   "outputs": [
    {
     "name": "stdout",
     "output_type": "stream",
     "text": [
      "root\n",
      " |-- _id: string (nullable = true)\n",
      " |-- _score: string (nullable = true)\n",
      " |-- _type: string (nullable = true)\n",
      " |-- pm_data_source_dn: string (nullable = true)\n",
      " |-- pm_data_source.edge_alias: string (nullable = true)\n",
      " |-- pm_data_source.edge_hostname: string (nullable = true)\n",
      " |-- pm_data_source.edge_id: string (nullable = true)\n",
      " |-- pm_data_source_end_timestamp: string (nullable = true)\n",
      " |-- pm_data_source_hw_alias: string (nullable = true)\n",
      " |-- pm_data_source_hw_id: string (nullable = true)\n",
      " |-- pm_data_source_nhg_alias: string (nullable = true)\n",
      " |-- pm_data_source.nhg_id: string (nullable = true)\n",
      " |-- pm_data_source.serial_no: string (nullable = true)\n",
      " |-- pm_data_source.slice_id: string (nullable = true)\n",
      " |-- pm_data_source.technology: string (nullable = true)\n",
      " |-- pm_data_source.timestamp: string (nullable = true)\n",
      " |-- pm_data.LTE_Cell_Avail_M8020C0: string (nullable = true)\n",
      " |-- pm_data.LTE_Cell_Avail_M8020C1: string (nullable = true)\n",
      " |-- pm_data.LTE_Cell_Avail_M8020C10: string (nullable = true)\n",
      " |-- pm_data.LTE_Cell_Avail_M8020C11: string (nullable = true)\n",
      " |-- pm_data.LTE_Cell_Avail_M8020C12: string (nullable = true)\n",
      " |-- pm_data.LTE_Cell_Avail_M8020C13: string (nullable = true)\n",
      " |-- pm_data.LTE_Cell_Avail_M8020C14: string (nullable = true)\n",
      " |-- pm_data.LTE_Cell_Avail_M8020C15: string (nullable = true)\n",
      " |-- pm_data.LTE_Cell_Avail_M8020C2: string (nullable = true)\n",
      " |-- pm_data_LTE_Cell_Avail_M8020C3: integer (nullable = true)\n",
      " |-- pm_data_LTE_Cell_Avail_M8020C4: integer (nullable = true)\n",
      " |-- pm_data.LTE_Cell_Avail_M8020C5: string (nullable = true)\n",
      " |-- pm_data_LTE_Cell_Avail_M8020C6: integer (nullable = true)\n",
      " |-- pm_data.LTE_Cell_Avail_M8020C7: string (nullable = true)\n",
      " |-- pm_data.LTE_Cell_Avail_M8020C8: string (nullable = true)\n",
      " |-- pm_data.LTE_Cell_Avail_M8020C9: string (nullable = true)\n",
      " |-- timestamp: string (nullable = true)\n",
      " |-- _index: string (nullable = true)\n",
      "\n"
     ]
    }
   ],
   "source": [
    "df1.printSchema()"
   ]
  },
  {
   "cell_type": "code",
   "execution_count": 10,
   "id": "d936180e",
   "metadata": {},
   "outputs": [],
   "source": [
    "df2=df1.groupBy('pm_data_source_end_timestamp','pm_data_source_nhg_alias','pm_data_source_dn','pm_data_source_hw_alias')\\\n",
    ".agg(sum(\"pm_data_LTE_Cell_Avail_M8020C4\").alias('sum_M8020C4'),\\\n",
    "    sum(\"pm_data_LTE_Cell_Avail_M8020C6\").alias('sum_M8020C6'),\\\n",
    "   sum(\"pm_data_LTE_Cell_Avail_M8020C3\").alias('sum_M8020C3'))"
   ]
  },
  {
   "cell_type": "code",
   "execution_count": 1,
   "id": "ae64a8b0",
   "metadata": {},
   "outputs": [],
   "source": [
    "df2.show(5,False)"
   ]
  },
  {
   "cell_type": "code",
   "execution_count": 38,
   "id": "dfc33bf7",
   "metadata": {},
   "outputs": [],
   "source": [
    "df3=df2.withColumn('LTE_5750a',(100*col('sum_M8020C3')/col('sum_M8020C6')))"
   ]
  },
  {
   "cell_type": "code",
   "execution_count": 2,
   "id": "8c0fd92e",
   "metadata": {},
   "outputs": [],
   "source": [
    "df3.show(5,False)"
   ]
  },
  {
   "cell_type": "code",
   "execution_count": null,
   "id": "bd2ff5e6",
   "metadata": {},
   "outputs": [],
   "source": [
    "df4 = df3.filter(col('pm_data_source_dn').contains('LNCEL'))"
   ]
  },
  {
   "cell_type": "code",
   "execution_count": null,
   "id": "89d7549b",
   "metadata": {},
   "outputs": [],
   "source": [
    "#df2.write.csv(path=)"
   ]
  }
 ],
 "metadata": {
  "kernelspec": {
   "display_name": "Python 3 (ipykernel)",
   "language": "python",
   "name": "python3"
  },
  "language_info": {
   "codemirror_mode": {
    "name": "ipython",
    "version": 3
   },
   "file_extension": ".py",
   "mimetype": "text/x-python",
   "name": "python",
   "nbconvert_exporter": "python",
   "pygments_lexer": "ipython3",
   "version": "3.9.7"
  }
 },
 "nbformat": 4,
 "nbformat_minor": 5
}
