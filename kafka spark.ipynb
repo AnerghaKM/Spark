{
 "cells": [
  {
   "cell_type": "code",
   "execution_count": 1,
   "id": "12c73b34",
   "metadata": {},
   "outputs": [],
   "source": [
    "from pyspark import SparkContext\n",
    "from pyspark.streaming import StreamingContext\n",
    "import json\n",
    "from pyspark.sql import SparkSession\n",
    "from pyspark.sql.types import *\n",
    "import datetime\n",
    "import time\n",
    "from pyspark.sql.functions import split\n",
    "from pyspark.sql.functions import *"
   ]
  },
  {
   "cell_type": "code",
   "execution_count": 2,
   "id": "224fe4a6",
   "metadata": {},
   "outputs": [],
   "source": [
    "#sc = SparkContext(appName='test')\n",
    "#sc.setLogLevel('WARN')\n",
    "#spark = SparkSession(sc)\n",
    "spark = SparkSession.builder.appName(\"pyspark-notebook\").getOrCreate()"
   ]
  },
  {
   "cell_type": "code",
   "execution_count": null,
   "id": "cb07ea90",
   "metadata": {},
   "outputs": [],
   "source": [
    "#Read streaming data from Kafka into Pyspark dataframe\n",
    "dfCSV=spark.readStream.format('kafka').option('kafka.bootstrap.servers','kafka:9092')/\n",
    ".option('subscribe', 'data_csv').option(\"failOnDataLoss\",\"false\")/\n",
    ".option('startingOffsets', 'earliest').load().selectExpr(\"CAST(value AS STRING)\")\n",
    "dfCSV.printSchema()"
   ]
  },
  {
   "cell_type": "code",
   "execution_count": null,
   "id": "07abf824",
   "metadata": {},
   "outputs": [],
   "source": [
    "#Define schema for the data\n",
    "userSchema =StructType([\n",
    "StructField('Global_new_confirmed',StringType()),\n",
    "StructField('Global_new_deaths',StringType()),\n",
    "StructField('Global_new_recovered',StringType()),\n",
    "StructField('Global_total_confirmed',StringType()),\n",
    "StructField('Global_total_deaths',StringType()),\n",
    "StructField('Global_total_recovered',StringType()),\n",
    "StructField('Country_code',StringType()),\n",
    "StructField('Country_name',StringType()),\n",
    "StructField('Country_new_deaths',StringType()),\n",
    "StructField('Country_new_recovered',StringType()),\n",
    "StructField('Country_new_confirmed',StringType()),\n",
    "StructField('Country_total_deaths',StringType()),\n",
    "StructField('Country_total_confirmed',StringType()),\n",
    "StructField('Country_total_recovered',StringType()),\n",
    "StructField('Country_slug',StringType()),\n",
    "StructField('Extracted_timestamp',TimestampType()),\n",
    "StructField('country_code_hash',StringType()),\n",
    "StructField('Country_code_final',StringType())\n",
    "\n",
    "])\n",
    "\n",
    "\n",
    "print(\"coming1-->\")"
   ]
  },
  {
   "cell_type": "code",
   "execution_count": 11,
   "id": "4fcc76c6",
   "metadata": {},
   "outputs": [],
   "source": [
    "df_json=spark.read.option(\"multiline\",\"true\").json(r\"C:\\Users\\Anergha\\Documents\\cell_availability.json\")"
   ]
  },
  {
   "cell_type": "code",
   "execution_count": 1,
   "id": "b7f3a606",
   "metadata": {},
   "outputs": [],
   "source": [
    "print(df_json)"
   ]
  },
  {
   "cell_type": "code",
   "execution_count": 2,
   "id": "a2b4b5a6",
   "metadata": {},
   "outputs": [],
   "source": [
    "df_json1=spark.read.option(\"multiline\",\"true\").json(r\"C:\\Users\\Anergha\\Documents\\call_setup_attempt.json\")\n",
    "df_json1"
   ]
  },
  {
   "cell_type": "code",
   "execution_count": null,
   "id": "ad8615b1",
   "metadata": {},
   "outputs": [],
   "source": []
  },
  {
   "cell_type": "code",
   "execution_count": null,
   "id": "880b9534",
   "metadata": {},
   "outputs": [],
   "source": []
  }
 ],
 "metadata": {
  "kernelspec": {
   "display_name": "Python 3 (ipykernel)",
   "language": "python",
   "name": "python3"
  },
  "language_info": {
   "codemirror_mode": {
    "name": "ipython",
    "version": 3
   },
   "file_extension": ".py",
   "mimetype": "text/x-python",
   "name": "python",
   "nbconvert_exporter": "python",
   "pygments_lexer": "ipython3",
   "version": "3.9.7"
  }
 },
 "nbformat": 4,
 "nbformat_minor": 5
}
