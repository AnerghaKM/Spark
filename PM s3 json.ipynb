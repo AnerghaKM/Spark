{
 "cells": [
  {
   "cell_type": "code",
   "execution_count": 139,
   "id": "bf21f081",
   "metadata": {},
   "outputs": [],
   "source": [
    "from pyspark import SparkContext\n",
    "from pyspark.streaming import StreamingContext\n",
    "import json\n",
    "from pyspark.sql import SparkSession\n",
    "from pyspark.sql.types import *\n",
    "import datetime\n",
    "import time\n",
    "from pyspark.sql.functions import split\n",
    "from pyspark.sql.functions import *\n",
    "import boto3"
   ]
  },
  {
   "cell_type": "code",
   "execution_count": 140,
   "id": "8a02a06e",
   "metadata": {},
   "outputs": [],
   "source": [
    "s3 = boto3.resource('s3',region_name=\"us-east-2\",aws_access_key_id='APM',aws_secret_access_key='fp/Ew')"
   ]
  },
  {
   "cell_type": "code",
   "execution_count": 141,
   "id": "d259d447",
   "metadata": {},
   "outputs": [],
   "source": [
    "bucket = s3.Bucket(\"kyndryl-hackathon-bucket-1\")"
   ]
  },
  {
   "cell_type": "code",
   "execution_count": 142,
   "id": "441f62fd",
   "metadata": {},
   "outputs": [
    {
     "data": {
      "text/plain": [
       "['FM_DOW Chemicals_2023_02_02_17_13_01.json',\n",
       " 'FM_DOW Chemicals_2023_02_02_17_13_06.json',\n",
       " 'FM_DOW Chemicals_2023_02_02_17_13_10.json',\n",
       " 'FM_DOW Chemicals_2023_02_02_17_13_15.json',\n",
       " 'FM_DOW Chemicals_2023_02_02_17_13_19.json',\n",
       " 'FM_DOW Chemicals_2023_02_02_17_13_24.json',\n",
       " 'FM_DOW Chemicals_2023_02_02_17_13_28.json',\n",
       " 'FM_DOW Chemicals_2023_02_02_17_13_32.json',\n",
       " 'FM_DOW Chemicals_2023_02_02_17_13_37.json',\n",
       " 'FM_DOW Chemicals_2023_02_02_17_13_41.json',\n",
       " 'FM_DOW Chemicals_2023_02_02_17_13_45.json',\n",
       " 'FM_DOW Chemicals_2023_02_02_17_13_49.json',\n",
       " 'FM_DOW Chemicals_2023_02_02_17_13_53.json',\n",
       " 'FM_DOW Chemicals_2023_02_02_17_13_57.json',\n",
       " 'FM_DOW Chemicals_2023_02_02_17_14_03.json',\n",
       " 'FM_DOW Chemicals_2023_02_02_17_14_08.json',\n",
       " 'FM_DOW Chemicals_2023_02_02_17_14_12.json',\n",
       " 'FM_DOW Chemicals_2023_02_02_17_14_17.json',\n",
       " 'FM_DOW Chemicals_2023_02_02_17_14_22.json',\n",
       " 'FM_DOW Chemicals_2023_02_02_17_14_27.json',\n",
       " 'FM_DOW Chemicals_2023_02_02_17_14_31.json',\n",
       " 'FM_DOW Chemicals_2023_02_02_17_14_36.json',\n",
       " 'FM_DOW Chemicals_2023_02_02_17_14_41.json',\n",
       " 'FM_DOW Chemicals_2023_02_02_17_14_45.json',\n",
       " 'PM_DOW Chemicals_2023_02_02_17_10_05.json',\n",
       " 'PM_DOW Chemicals_2023_02_02_17_10_22.json',\n",
       " 'PM_DOW Chemicals_2023_02_02_17_10_41.json',\n",
       " 'PM_DOW Chemicals_2023_02_02_17_11_12.json',\n",
       " 'PM_DOW Chemicals_2023_02_02_17_11_49.json',\n",
       " 'PM_DOW Chemicals_2023_02_02_17_12_13.json',\n",
       " 'access_point_not_present.csv',\n",
       " 'config_5g_server.json',\n",
       " 'nhg_alias_final.csv']"
      ]
     },
     "execution_count": 142,
     "metadata": {},
     "output_type": "execute_result"
    }
   ],
   "source": [
    "data_files= [filename.key for filename in bucket.objects.filter(Prefix='')]\n",
    "data_files"
   ]
  },
  {
   "cell_type": "code",
   "execution_count": null,
   "id": "4dd01e9d",
   "metadata": {},
   "outputs": [],
   "source": [
    "hadoop_conf.set(\"fs.s3a.access.key\", 'AKPM')\n",
    "hadoop_conf.set(\"fs.s3a.secret.key\", 'bIHZc9fp/Ew')\n",
    "s3=boto3.resource('s3')\n",
    "bucket=s3.Bucket('bucket-1')\n",
    "for obj in bucket.objects.all():\n",
    "    key=obj.key\n",
    "    body=obj.get()['Body'].read()"
   ]
  },
  {
   "cell_type": "code",
   "execution_count": 144,
   "id": "3e06e105",
   "metadata": {},
   "outputs": [],
   "source": [
    "spark = SparkSession.builder.appName(\"s3-json\").getOrCreate()"
   ]
  },
  {
   "cell_type": "code",
   "execution_count": 107,
   "id": "f546b433",
   "metadata": {},
   "outputs": [],
   "source": [
    "df=spark.read.option('multiline','true').format('json').load(r'C:\\Users\\AnerghaKMohan\\Documents\\data\\hemicals_2023_02_02_11_49_25.json')"
   ]
  },
  {
   "cell_type": "code",
   "execution_count": 110,
   "id": "8e95d73a",
   "metadata": {},
   "outputs": [],
   "source": [
    "#df.show(5,False)"
   ]
  },
  {
   "cell_type": "code",
   "execution_count": 114,
   "id": "9d3709dd",
   "metadata": {},
   "outputs": [],
   "source": [
    "#df1=df.select('account_name','pm_data.*','pm_data_source.*')\n",
    "#df1.show(5,False)"
   ]
  },
  {
   "cell_type": "code",
   "execution_count": 113,
   "id": "fd816984",
   "metadata": {},
   "outputs": [
    {
     "name": "stdout",
     "output_type": "stream",
     "text": [
      "root\n",
      " |-- account_name: string (nullable = true)\n",
      " |-- pm_data: struct (nullable = true)\n",
      " |    |-- Cat_M_Accessibility_M8100C0: long (nullable = true)\n",
      " |    |-- Cat_M_Accessibility_M8100C22: long (nullable = true)\n",
      " |    |-- Cat_M_Accessibility_M8100C23: long (nullable = true)\n",
      " |    |-- Cat_M_Accessibility_M8100C24: long (nullable = true)\n",
      " |    |-- Cat_M_Accessibility_M8100C25: long (nullable = true)\n",
      " |    |-- Cat_M_Accessibility_M8100C26: long (nullable = true)\n",
      " |    |-- Cat_M_Accessibility_M8100C27: long (nullable = true)\n",
      " |    |-- Cat_M_Accessibility_M8100C28: long (nullable = true)\n",
      " |    |-- Cat_M_Accessibility_M8100C29: long (nullable = true)\n",
      " |    |-- Cat_M_Accessibility_M8100C30: long (nullable = true)\n",
      " |    |-- Cat_M_Accessibility_M8100C31: long (nullable = true)\n",
      " |    |-- Cat_M_Accessibility_M8100C32: long (nullable = true)\n",
      " |    |-- Cat_M_Accessibility_M8100C33: long (nullable = true)\n",
      " |    |-- Cat_M_Accessibility_M8100C34: long (nullable = true)\n",
      " |    |-- Cat_M_Accessibility_M8100C35: long (nullable = true)\n",
      " |    |-- Cat_M_Accessibility_M8100C36: long (nullable = true)\n",
      " |    |-- Cat_M_Accessibility_M8100C37: long (nullable = true)\n",
      " |    |-- Cat_M_Accessibility_M8100C38: long (nullable = true)\n",
      " |    |-- Cat_M_Accessibility_M8100C39: long (nullable = true)\n",
      " |    |-- Cat_M_Accessibility_M8100C40: long (nullable = true)\n",
      " |    |-- Cat_M_Accessibility_M8100C41: long (nullable = true)\n",
      " |    |-- Cat_M_Accessibility_M8100C42: long (nullable = true)\n",
      " |    |-- Cat_M_Accessibility_M8100C43: long (nullable = true)\n",
      " |    |-- Cat_M_Accessibility_M8100C44: long (nullable = true)\n",
      " |    |-- Cat_M_Accessibility_M8100C45: long (nullable = true)\n",
      " |    |-- Cat_M_Accessibility_M8100C46: long (nullable = true)\n",
      " |    |-- Cat_M_Accessibility_M8100C47: long (nullable = true)\n",
      " |    |-- Cat_M_Accessibility_M8100C48: long (nullable = true)\n",
      " |    |-- Cat_M_Accessibility_M8100C49: long (nullable = true)\n",
      " |    |-- Cat_M_Accessibility_M8100C50: long (nullable = true)\n",
      " |    |-- Cat_M_Accessibility_M8100C51: long (nullable = true)\n",
      " |    |-- Cat_M_Accessibility_M8100C52: long (nullable = true)\n",
      " |    |-- Cat_M_Accessibility_M8100C53: long (nullable = true)\n",
      " |    |-- Cat_M_Accessibility_M8100C54: long (nullable = true)\n",
      " |    |-- Cat_M_Accessibility_M8100C55: long (nullable = true)\n",
      " |    |-- Cat_M_Accessibility_M8100C56: long (nullable = true)\n",
      " |    |-- Cat_M_Accessibility_M8100C57: long (nullable = true)\n",
      " |    |-- Cat_M_Accessibility_M8100C58: long (nullable = true)\n",
      " |    |-- Cat_M_Accessibility_M8100C59: long (nullable = true)\n",
      " |    |-- Cat_M_Accessibility_M8100C60: long (nullable = true)\n",
      " |    |-- Cat_M_Accessibility_M8100C61: long (nullable = true)\n",
      " |    |-- Cat_M_Accessibility_M8100C62: long (nullable = true)\n",
      " |    |-- Cat_M_Accessibility_M8100C63: long (nullable = true)\n",
      " |    |-- Cat_M_Accessibility_M8100C64: long (nullable = true)\n",
      " |    |-- Cat_M_Accessibility_M8100C65: long (nullable = true)\n",
      " |    |-- Cat_M_Accessibility_M8100C66: long (nullable = true)\n",
      " |    |-- Cat_M_Accessibility_M8100C67: long (nullable = true)\n",
      " |-- pm_data_source: struct (nullable = true)\n",
      " |    |-- dn: string (nullable = true)\n",
      " |    |-- edge_alias: string (nullable = true)\n",
      " |    |-- edge_hostname: string (nullable = true)\n",
      " |    |-- edge_id: string (nullable = true)\n",
      " |    |-- end_timestamp: string (nullable = true)\n",
      " |    |-- hw_alias: string (nullable = true)\n",
      " |    |-- hw_id: string (nullable = true)\n",
      " |    |-- nhg_alias: string (nullable = true)\n",
      " |    |-- nhg_id: string (nullable = true)\n",
      " |    |-- serial_no: string (nullable = true)\n",
      " |    |-- slice_id: string (nullable = true)\n",
      " |    |-- technology: string (nullable = true)\n",
      " |    |-- timestamp: string (nullable = true)\n",
      "\n"
     ]
    }
   ],
   "source": [
    "df.printSchema()"
   ]
  },
  {
   "cell_type": "code",
   "execution_count": 109,
   "id": "71b40d1f",
   "metadata": {},
   "outputs": [],
   "source": [
    "#df.select('pm_data.*').show()"
   ]
  },
  {
   "cell_type": "code",
   "execution_count": 115,
   "id": "ce1ec306",
   "metadata": {},
   "outputs": [],
   "source": [
    "df1=df.groupBy('pm_data_source_end_timestamp','pm_data_source_nhg_alias','pm_data_source_dn','pm_data_source_hw_alias')\n",
    ".agg(sum(\"pm_data_LTE_Cell_Avail_M8020C4\").alias('sum_M8020C4'),\\\n",
    "    sum(\"pm_data_LTE_Cell_Avail_M8020C6\").alias('sum_M8020C6'),\\\n",
    "   sum(\"pm_data_LTE_Cell_Avail_M8020C3\").alias('sum_M8020C3'))"
   ]
  },
  {
   "cell_type": "code",
   "execution_count": null,
   "id": "354f7c29",
   "metadata": {},
   "outputs": [],
   "source": []
  }
 ],
 "metadata": {
  "kernelspec": {
   "display_name": "Python 3 (ipykernel)",
   "language": "python",
   "name": "python3"
  },
  "language_info": {
   "codemirror_mode": {
    "name": "ipython",
    "version": 3
   },
   "file_extension": ".py",
   "mimetype": "text/x-python",
   "name": "python",
   "nbconvert_exporter": "python",
   "pygments_lexer": "ipython3",
   "version": "3.9.7"
  }
 },
 "nbformat": 4,
 "nbformat_minor": 5
}
